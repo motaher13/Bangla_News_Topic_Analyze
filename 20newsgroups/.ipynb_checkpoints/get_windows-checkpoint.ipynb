{
 "cells": [
  {
   "cell_type": "code",
   "execution_count": 1,
   "metadata": {},
   "outputs": [],
   "source": [
    "%load_ext autoreload\n",
    "%autoreload 2"
   ]
  },
  {
   "cell_type": "code",
   "execution_count": null,
   "metadata": {},
   "outputs": [],
   "source": [
    "from sklearn.datasets import fetch_20newsgroups\n",
    "import numpy as np\n",
    "from tqdm import tqdm\n",
    "import spacy\n",
    "from gensim import corpora, models\n",
    "\n",
    "import sys\n",
    "sys.path.append('..')\n",
    "from utils import preprocess, get_windows"
   ]
  },
  {
   "cell_type": "code",
   "execution_count": null,
   "metadata": {},
   "outputs": [],
   "source": [
    "MIN_COUNTS = 20\n",
    "MAX_COUNTS = 1800\n",
    "# words with count < MIN_COUNTS\n",
    "# and count > MAX_COUNTS\n",
    "# will be removed\n",
    "\n",
    "MIN_LENGTH = 15\n",
    "# minimum document length \n",
    "# (number of words)\n",
    "# after preprocessing\n",
    "\n",
    "# half the size of the context around a word\n",
    "HALF_WINDOW_SIZE = 5\n",
    "# it must be that 2*HALF_WINDOW_SIZE < MIN_LENGTH"
   ]
  },
  {
   "cell_type": "markdown",
   "metadata": {},
   "source": [
    "# Load NLP model"
   ]
  },
  {
   "cell_type": "code",
   "execution_count": null,
   "metadata": {},
   "outputs": [],
   "source": [
    "nlp = spacy.load('en')"
   ]
  },
  {
   "cell_type": "markdown",
   "metadata": {},
   "source": [
    "# Load dataset"
   ]
  },
  {
   "cell_type": "code",
   "execution_count": 49,
   "metadata": {},
   "outputs": [],
   "source": [
    "from sklearn.datasets import fetch_20newsgroups"
   ]
  },
  {
   "cell_type": "code",
   "execution_count": 51,
   "metadata": {},
   "outputs": [],
   "source": [
    "dataset = fetch_20newsgroups(data_home='D:/code python/LDA2vec/bangla news',subset='all', remove=('headers', 'footers', 'quotes'),categories='unicode')\n",
    "docs = dataset['data']"
   ]
  },
  {
   "cell_type": "code",
   "execution_count": 52,
   "metadata": {},
   "outputs": [
    {
     "data": {
      "text/plain": [
       "8"
      ]
     },
     "execution_count": 52,
     "metadata": {},
     "output_type": "execute_result"
    }
   ],
   "source": [
    "# number of documents\n",
    "len(docs)"
   ]
  },
  {
   "cell_type": "code",
   "execution_count": 53,
   "metadata": {},
   "outputs": [],
   "source": [
    "# store an index with a document\n",
    "docs = [(i, doc) for i, doc in enumerate(docs)]"
   ]
  },
  {
   "cell_type": "code",
   "execution_count": 54,
   "metadata": {},
   "outputs": [
    {
     "name": "stdout",
     "output_type": "stream",
     "text": [
      "(0, 'à¦¸à¦¿à¦¡à¦¨à¦¿à¦¤à§\\x87 à¦\\x87à¦\\x82à¦²à§\\x8dà¦¯à¦¾à¦¨à§\\x8dà¦¡-à¦\\x86à¦«à¦\\x97à¦¾à¦¨à¦¿à¦¸à§\\x8dà¦¤à¦¾à¦¨ à¦®à§\\x8dà¦¯à¦¾à¦\\x9aà§\\x87à¦° à¦§à¦¾à¦°à¦¾à¦\\xadà¦¾à¦·à§\\x8dà¦¯à¦\\x95à¦¾à¦° à¦¤à¦¾à¦\\x81à¦°à¦¾à¥¤ à¦¬à§\\x83à¦·à§\\x8dà¦\\x9fà¦¿à¦° à¦\\x95à¦¾à¦°à¦£à§\\x87 à¦¬à¦¨à§\\x8dà¦§ à¦¥à¦¾à¦\\x95à¦¾à§\\x9f à¦¹à§\\x9fà¦¤à§\\x87à¦¾ à¦¸à¦®à§\\x9f à¦\\x95à¦¾à¦\\x9fà¦¾à¦¤à§\\x87à¦\\x87 à¦\\x9fà§\\x87à¦²à¦¿à¦\\xadà¦¿à¦¶à¦¨à§\\x87 à¦\\x9aà§\\x87à¦¾à¦\\x96 à¦°à§\\x87à¦\\x96à§\\x87à¦\\x9bà¦¿à¦²à§\\x87à¦¨ à¦¹à§\\x8dà¦¯à¦¾à¦®à¦¿à¦²à§\\x8dà¦\\x9fà¦¨à§\\x87à¦° à¦¬à¦¾à¦\\x82à¦²à¦¾à¦¦à§\\x87à¦¶-à¦¨à¦¿à¦\\x89à¦\\x9cà¦¿à¦²à§\\x8dà¦¯à¦¾à¦¨à§\\x8dà¦¡ à¦®à§\\x8dà¦¯à¦¾à¦\\x9aà§\\x87à¦° à¦¦à¦¿à¦\\x95à§\\x87à¥¤ à¦\\x95à¦¿à¦¨à§\\x8dà¦¤à§\\x81 à¦\\x8fà¦\\x87 à¦®à§\\x8dà¦¯à¦¾à¦\\x9aà§\\x87à¦° à¦¬à¦¾à¦\\x82à¦²à¦¾à¦¦à§\\x87à¦¶à¦\\x95à§\\x87 à¦¦à§\\x87à¦\\x96à§\\x87 à¦¬à¦¿à¦¸à§\\x8dà¦®à§\\x9fà§\\x87 à¦\\x85à¦\\xadà¦¿à¦\\xadà§\\x82à¦¤ à¦¸à§\\x8dà¦\\x9fà¦¾à¦° à¦¸à§\\x8dà¦ªà§\\x87à¦¾à¦°à§\\x8dà¦\\x9fà¦¸à§\\x87à¦° à¦¤à¦¿à¦¨ à¦§à¦¾à¦°à¦¾à¦\\xadà¦¾à¦·à§\\x8dà¦¯à¦\\x95à¦¾à¦°-à¦°à¦®à¦¿à¦\\x9c à¦°à¦¾à¦\\x9cà¦¾, à¦\\x93à§\\x9fà¦¾à¦¸à¦¿à¦® à¦\\x86à¦\\x95à¦°à¦¾à¦® à¦\\x93 à¦\\x87à§\\x9fà¦¾à¦¨ à¦¬à¦¿à¦¶à¦ªà¥¤ à¦\\x8fà¦¬à¦¾à¦°à§\\x87à¦° à¦¬à¦¿à¦¶à§\\x8dà¦¬à¦\\x95à¦¾à¦ªà§\\x87à¦° à¦¬à¦¾à¦\\x82à¦²à¦¾à¦¦à§\\x87à¦¶ à¦¦à¦²à¦\\x95à§\\x87 à¦¦à§\\x87à¦\\x96à§\\x87 à¦¸à¦¤à§\\x8dà¦¯à¦¿à¦\\x87 à¦\\x85à¦¬à¦¾à¦\\x95 à¦\\x8fà¦\\x87 à¦¸à¦¾à¦¬à§\\x87à¦\\x95 à¦¤à¦¿à¦¨ à¦¤à¦¾à¦°à¦\\x95à¦¾à¥¤ à¦¬à¦¿à¦¶à¦ªà§\\x87à¦° à¦\\x96à§\\x81à¦¬ à¦®à¦¨à§\\x87 à¦\\x86à¦\\x9bà§\\x87 à¦\\x97à¦¤ à¦\\x86à¦\\x97à¦¸à§\\x8dà¦\\x9fà§\\x87 à¦\\x95à§\\x8dà¦¯à¦¾à¦°à¦¿à¦¬à§\\x80à§\\x9f à¦¦à§\\x8dà¦¬à§\\x80à¦ªà¦ªà§\\x81à¦\\x9eà§\\x8dà¦\\x9cà§\\x87 à¦\\x96à§\\x87à¦²à¦¤à§\\x87 à¦¯à¦¾à¦\\x93à§\\x9fà¦¾ à¦¬à¦¾à¦\\x82à¦²à¦¾à¦¦à§\\x87à¦¶ à¦¦à¦²à¦\\x9fà¦¿à¦° à¦\\x95à¦¥à¦¾à¥¤ à¦¹à¦¾à¦°à¦¤à§\\x87 à¦¹à¦¾à¦°à¦¤à§\\x87 à¦\\x95à§\\x8dà¦²à¦¾à¦¨à§\\x8dà¦¤, à¦¤à§\\x8dà¦°à¦¸à§\\x8dà¦¤-à¦¬à¦¿à¦§à§\\x8dà¦¬à¦¸à§\\x8dà¦¤ à¦\\x93à¦\\x87 à¦¬à¦¾à¦\\x82à¦²à¦¾à¦¦à§\\x87à¦¶ à¦¦à¦²à§\\x87à¦° à¦¸à¦\\x99à§\\x8dà¦\\x97à§\\x87 à¦¬à¦¿à¦¶à§\\x8dà¦¬à¦\\x95à¦¾à¦ªà§\\x87à¦° à¦¬à¦¾à¦\\x82à¦²à¦¾à¦¦à§\\x87à¦¶ à¦¦à¦²à¦\\x9fà¦¿à¦° à¦\\x95à§\\x87à¦¾à¦¨à§\\x87à¦¾ à¦®à¦¿à¦²à¦\\x87 à¦\\x96à§\\x81à¦\\x81à¦\\x9cà§\\x87 à¦ªà¦¾à¦\\x9aà§\\x8dà¦\\x9bà§\\x87à¦¨ à¦¨à¦¾ à¦\\x93à§\\x9fà§\\x87à¦¸à§\\x8dà¦\\x9f à¦\\x87à¦¨à§\\x8dà¦¡à¦¿à¦\\x9cà§\\x87à¦° à¦¸à¦¾à¦¬à§\\x87à¦\\x95 à¦\\x8fà¦\\x87 à¦«à¦¾à¦¸à§\\x8dà¦\\x9f à¦¬à§\\x87à¦¾à¦²à¦¾à¦°à¥¤ à¦\\x87à¦\\x82à¦²à§\\x8dà¦¯à¦¾à¦¨à§\\x8dà¦¡-à¦\\x86à¦«à¦\\x97à¦¾à¦¨à¦¿à¦¸à§\\x8dà¦¤à¦¾à¦¨ à¦®à§\\x8dà¦¯à¦¾à¦\\x9aà§\\x87à¦° à¦\\x8fà¦\\x95 à¦«à¦¾à¦\\x81à¦\\x95à§\\x87 à¦\\x8fà¦\\x95à¦\\x9fà¦¾ à¦\\x86à¦²à§\\x87à¦¾à¦\\x9aà¦¨à¦¾à§\\x9f à¦¬à¦¾à¦\\x82à¦²à¦¾à¦¦à§\\x87à¦¶ à¦ªà§\\x8dà¦°à¦¸à¦\\x99à§\\x8dà¦\\x97à§\\x87 à¦¬à¦¿à¦¶à¦ª à¦¬à¦²à¦²à§\\x87à¦¨, â\\x80\\x98à¦\\x8fà¦\\x87 à¦¬à¦¾à¦\\x82à¦²à¦¾à¦¦à§\\x87à¦¶à§\\x87à¦° à¦¶à¦°à§\\x80à¦°à§\\x80 à¦\\xadà¦¾à¦·à¦¾à¦\\x87 à¦\\x85à¦¨à§\\x8dà¦¯ à¦°à¦\\x95à¦®à¥¤ à¦\\x97à¦¤ à¦¬à¦\\x9bà¦°à§\\x87à¦° à¦®à¦¾à¦\\x9dà¦¾à¦®à¦¾à¦\\x9dà¦¿ à¦¸à¦®à§\\x9f à¦\\x93à§\\x9fà§\\x87à¦¸à§\\x8dà¦\\x9f à¦\\x87à¦¨à§\\x8dà¦¡à¦¿à¦\\x9c à¦¸à¦«à¦°à§\\x87 à¦¯à¦¾à¦\\x93à§\\x9fà¦¾ à¦¦à¦²à¦\\x9fà¦¿à¦° à¦\\x86à¦¤à§\\x8dà¦®à¦¬à¦¿à¦¶à§\\x8dà¦¬à¦¾à¦¸à§\\x87à¦° à¦¸à¦\\x99à§\\x8dà¦\\x97à§\\x87 à¦\\x8fà¦\\x87 à¦¦à¦²à§\\x87à¦° à¦\\x95à§\\x87à¦¾à¦¨à§\\x87à¦¾ à¦\\x95à¦¿à¦\\x9bà§\\x81à¦°à¦\\x87 à¦®à¦¿à¦² à¦¨à§\\x87à¦\\x87à¥¤â\\x80\\x99 à¦°à¦®à¦¿à¦\\x9c à¦°à¦¾à¦\\x9cà¦¾ à¦¬à¦²à§\\x87à¦¨, â\\x80\\x98à§¨à§¦à§§à§¨ à¦\\x8fà¦¶à¦¿à§\\x9fà¦¾ à¦\\x95à¦¾à¦ªà§\\x87 à¦\\xadà¦¾à¦°à¦¤-à¦¶à§\\x8dà¦°à§\\x80à¦²à¦\\x99à§\\x8dà¦\\x95à¦¾à¦\\x95à§\\x87 à¦¹à¦¾à¦°à¦¿à§\\x9fà§\\x87 à¦«à¦¾à¦\\x87à¦¨à¦¾à¦²à§\\x87 à¦\\x97à¦¿à§\\x9fà§\\x87à¦\\x87 à¦¬à¦¾à¦\\x82à¦²à¦¾à¦¦à§\\x87à¦¶ à¦¨à¦¿à¦\\x9cà§\\x87à¦¦à§\\x87à¦° à¦\\x9aà§\\x87à¦¨à¦¾à¦¤à§\\x87 à¦ªà§\\x87à¦°à§\\x87à¦\\x9bà¦¿à¦²à¥¤ à¦¤à¦¾à¦°à¦¾ à¦¤à¦\\x96à¦¨à¦\\x87 à¦¸à¦¬à¦¾à¦\\x87à¦\\x95à§\\x87 à¦\\x9cà¦¾à¦¨à¦¿à§\\x9fà§\\x87 à¦¦à¦¿à§\\x9fà§\\x87à¦\\x9bà¦¿à¦², à¦¨à¦¿à¦\\x9cà§\\x87à¦¦à§\\x87à¦° à¦¦à¦¿à¦¨à§\\x87 à¦¯à§\\x87à¦\\x95à§\\x87à¦¾à¦¨à§\\x87à¦¾ à¦¦à¦²à¦\\x95à§\\x87 à¦¹à¦¾à¦°à¦¾à¦¤à§\\x87 à¦ªà¦¾à¦°à§\\x87 à¦¤à¦¾à¦°à¦¾à¥¤â\\x80\\x99 à¦\\x95à§\\x87à¦¾à§\\x9fà¦¾à¦°à§\\x8dà¦\\x9fà¦¾à¦° à¦«à¦¾à¦\\x87à¦¨à¦¾à¦²à§\\x87 à¦\\xadà¦¾à¦°à¦¤à§\\x87à¦° à¦ªà§\\x8dà¦°à¦¤à¦¿à¦ªà¦\\x95à§\\x8dà¦· à¦¬à¦¾à¦\\x82à¦²à¦¾à¦¦à§\\x87à¦¶à¥¤ à¦°à¦®à¦¿à¦\\x9c à¦°à¦¾à¦\\x9cà¦¾ à¦®à¦¨à§\\x87 à¦\\x95à¦°à§\\x87à¦¨, à¦¬à¦¾à¦\\x82à¦²à¦¾à¦¦à§\\x87à¦¶ à¦¦à¦²à§\\x87à¦° â\\x80\\x98à¦\\x85à¦¨à¦¨à§\\x81à¦®à§\\x87à§\\x9fâ\\x80\\x99 à¦¬à§\\x8dà¦¯à¦¾à¦ªà¦¾à¦°à¦\\x9fà¦¾à¦\\x87 à¦¤à¦¾à¦¦à§\\x87à¦° à¦¬à§\\x9c à¦¶à¦\\x95à§\\x8dà¦¤à¦¿à¥¤ à¦¬à§\\x8dà¦¯à¦¾à¦ªà¦¾à¦°à¦\\x9fà¦¿ à¦\\x95à§\\x87à¦¾à§\\x9fà¦¾à¦°à§\\x8dà¦\\x9fà¦¾à¦° à¦«à¦¾à¦\\x87à¦¨à¦¾à¦²à§\\x87 à¦\\x95à¦¾à¦\\x9cà§\\x87 à¦²à¦¾à¦\\x97à¦¾à¦¤à§\\x87 à¦ªà¦¾à¦°à§\\x87 à¦¤à¦¾à¦°à¦¾à¥¤ à¦\\x93à§\\x9fà¦¾à¦¸à¦¿à¦® à¦\\x86à¦\\x95à¦°à¦¾à¦® à¦¬à¦²à§\\x87à¦¨, â\\x80\\x98à¦\\x86à¦®à¦¿ à¦¬à¦¾à¦\\x82à¦²à¦¾à¦¦à§\\x87à¦¶à¦¿ à¦\\x95à§\\x8dà¦°à¦¿à¦\\x95à§\\x87à¦\\x9fà§\\x87à¦° à¦\\x96à§\\x81à¦¬ à¦¬à§\\x9c à¦«à§\\x8dà¦¯à¦¾à¦¨à¥¤ à¦\\x8fà¦\\x87 à¦¦à§\\x87à¦¶à¦\\x9fà¦¿à¦¤à§\\x87 à¦\\x95à§\\x8dà¦°à¦¿à¦\\x95à§\\x87à¦\\x9fà§\\x87à¦° à¦ªà§\\x8dà¦°à¦¤à¦¿ à¦®à¦¾à¦¨à§\\x81à¦·à§\\x87à¦° à¦\\xadà¦¾à¦²à§\\x87à¦¾à¦¬à¦¾à¦¸à¦¾ à¦\\x86à¦\\x9bà§\\x87, à¦¦à¦²à¦\\x9fà¦¿à¦¤à§\\x87à¦\\x93 à¦\\xadà¦¾à¦²à§\\x87à¦¾ à¦\\x95à§\\x8dà¦°à¦¿à¦\\x95à§\\x87à¦\\x9fà¦¾à¦°à§\\x87à¦° à¦¸à¦\\x82à¦\\x96à§\\x8dà¦¯à¦¾ à¦¨à§\\x87à¦¹à¦¾à¦¤à¦\\x87 à¦\\x95à¦® à¦¨à§\\x9fà¥¤ à¦\\x95à¦¿à¦¨à§\\x8dà¦¤à§\\x81 à¦¨à¦¿à¦\\x9cà§\\x87à¦¦à§\\x87à¦° à¦\\x9aà§\\x87à¦¨à¦¾à¦¨à§\\x87à¦¾à¦\\x9fà¦¾à¦\\x87 à¦¬à¦¾à¦\\x95à¦¿ à¦\\x9bà¦¿à¦² à¦¤à¦¾à¦¦à§\\x87à¦°à¥¤ à¦\\x86à¦®à¦¾à¦° à¦®à¦¨à§\\x87 à¦¹à§\\x9f à¦¬à¦¿à¦¶à§\\x8dà¦¬à¦\\x95à¦¾à¦ªà§\\x87 à¦¸à§\\x87à¦\\x87 à¦\\x95à¦¾à¦\\x9cà¦\\x9fà¦¾ à¦¤à¦¾à¦°à¦¾ à¦\\x95à¦°à§\\x87à¦\\x9bà§\\x87à¥¤â\\x80\\x99 à¦¬à¦¿à¦¶à¦ª à¦®à¦¨à§\\x8dà¦¤à¦¬à§\\x8dà¦¯ à¦\\x95à¦°à§\\x87à¦\\x9bà§\\x87à¦¨, à¦®à§\\x81à¦¶à¦«à¦¿à¦\\x95à§\\x81à¦° à¦°à¦¹à¦¿à¦®à§\\x87à¦° à¦®à¦¤à§\\x87à¦¾ à¦¬à§\\x8dà¦¯à¦¾à¦\\x9fà¦¸à¦®à§\\x8dà¦¯à¦¾à¦¨à§\\x87à¦° à¦\\x95à¦¾à¦\\x81à¦§ à¦¥à§\\x87à¦\\x95à§\\x87 à¦\\x93à§\\x9fà¦¾à¦¨à¦¡à§\\x87 à¦\\x85à¦§à¦¿à¦¨à¦¾à§\\x9fà¦\\x95à¦¤à§\\x8dà¦¬à§\\x87à¦° à¦¬à§\\x87à¦¾à¦\\x9dà¦¾ à¦¨à¦¾à¦®à¦¿à§\\x9fà§\\x87 à¦¸à¦\\xa0à¦¿à¦\\x95 à¦\\x95à¦¾à¦\\x9cà¦\\x87 à¦\\x95à¦°à§\\x87à¦\\x9bà§\\x87 à¦¬à¦¾à¦\\x82à¦²à¦¾à¦¦à§\\x87à¦¶à§\\x87à¦° à¦\\x95à§\\x8dà¦°à¦¿à¦\\x95à§\\x87à¦\\x9f à¦ªà§\\x8dà¦°à¦¶à¦¾à¦¸à¦¨à¥¤ à¦®à¦¾à¦¶à¦°à¦¾à¦«à¦¿ à¦¬à¦¿à¦¨ à¦®à§\\x81à¦°à§\\x8dà¦¤à¦\\x9cà¦¾à¦° à¦¨à§\\x87à¦¤à§\\x83à¦¤à§\\x8dà¦¬à§\\x87 à¦¬à¦¾à¦\\x82à¦²à¦¾à¦¦à§\\x87à¦¶ à¦¦à¦²à¦\\x9fà¦¿ à¦\\x8fà¦\\x87 à¦®à§\\x81à¦¹à§\\x82à¦°à§\\x8dà¦¤à§\\x87 à¦\\x85à¦¨à§\\x87à¦\\x95 à¦¬à§\\x87à¦¶à¦¿ à¦\\x86à¦¤à§\\x8dà¦®à¦¬à¦¿à¦¶à§\\x8dà¦¬à¦¾à¦¸à§\\x80à¥¤\\r\\n')\n"
     ]
    }
   ],
   "source": [
    "print(docs[0])"
   ]
  },
  {
   "cell_type": "markdown",
   "metadata": {},
   "source": [
    "# Preprocess dataset and create windows"
   ]
  },
  {
   "cell_type": "code",
   "execution_count": null,
   "metadata": {
    "scrolled": true
   },
   "outputs": [],
   "source": [
    "encoded_docs, decoder, word_counts = preprocess(\n",
    "    docs, nlp, MIN_LENGTH, MIN_COUNTS, MAX_COUNTS\n",
    ")"
   ]
  },
  {
   "cell_type": "code",
   "execution_count": null,
   "metadata": {},
   "outputs": [],
   "source": [
    "# new ids will be created for the documents.\n",
    "# create a way of restoring initial ids:\n",
    "doc_decoder = {i: doc_id for i, (doc_id, doc) in enumerate(encoded_docs)}"
   ]
  },
  {
   "cell_type": "code",
   "execution_count": null,
   "metadata": {},
   "outputs": [],
   "source": [
    "data = []\n",
    "# new ids are created here\n",
    "for index, (_, doc) in tqdm(enumerate(encoded_docs)):\n",
    "    windows = get_windows(doc, HALF_WINDOW_SIZE)\n",
    "    # index represents id of a document, \n",
    "    # windows is a list of (word, window around this word),\n",
    "    # where word is in the document\n",
    "    data += [[index, w[0]] + w[1] for w in windows]\n",
    "\n",
    "data = np.array(data, dtype='int64')"
   ]
  },
  {
   "cell_type": "code",
   "execution_count": null,
   "metadata": {},
   "outputs": [],
   "source": [
    "# a row in 'data' contains:\n",
    "# id of a document, id of a word in this document, a window around this word\n",
    "# 1 + 1 + 10\n",
    "data.shape[1]"
   ]
  },
  {
   "cell_type": "code",
   "execution_count": null,
   "metadata": {},
   "outputs": [],
   "source": [
    "# number of windows (equals to the total number of tokens)\n",
    "data.shape[0]"
   ]
  },
  {
   "cell_type": "markdown",
   "metadata": {},
   "source": [
    "# Get unigram distribution"
   ]
  },
  {
   "cell_type": "code",
   "execution_count": null,
   "metadata": {},
   "outputs": [],
   "source": [
    "word_counts = np.array(word_counts)\n",
    "unigram_distribution = word_counts/sum(word_counts)"
   ]
  },
  {
   "cell_type": "markdown",
   "metadata": {},
   "source": [
    "# Prepare word vectors"
   ]
  },
  {
   "cell_type": "code",
   "execution_count": null,
   "metadata": {},
   "outputs": [],
   "source": [
    "%%time\n",
    "vocab_size = len(decoder)\n",
    "embedding_dim = 50\n",
    "\n",
    "# train a skip-gram word2vec model\n",
    "texts = [[str(j) for j in doc] for i, doc in encoded_docs]\n",
    "model = models.Word2Vec(texts, size=embedding_dim, window=5, workers=4, sg=1, negative=15, iter=70)\n",
    "model.init_sims(replace=True)\n",
    "\n",
    "word_vectors = np.zeros((vocab_size, embedding_dim)).astype('float32')\n",
    "for i in decoder:\n",
    "    word_vectors[i] = model.wv[str(i)]"
   ]
  },
  {
   "cell_type": "code",
   "execution_count": null,
   "metadata": {},
   "outputs": [],
   "source": [
    "# number of unique words\n",
    "vocab_size"
   ]
  },
  {
   "cell_type": "markdown",
   "metadata": {
    "collapsed": true
   },
   "source": [
    "# Prepare initialization for document weights"
   ]
  },
  {
   "cell_type": "code",
   "execution_count": null,
   "metadata": {},
   "outputs": [],
   "source": [
    "texts = [[decoder[j] for j in doc] for i, doc in encoded_docs]\n",
    "dictionary = corpora.Dictionary(texts)\n",
    "corpus = [dictionary.doc2bow(text) for text in texts]"
   ]
  },
  {
   "cell_type": "code",
   "execution_count": null,
   "metadata": {},
   "outputs": [],
   "source": [
    "%%time\n",
    "n_topics = 25\n",
    "lda = models.LdaModel(corpus, alpha=0.9, id2word=dictionary, num_topics=n_topics)\n",
    "corpus_lda = lda[corpus]"
   ]
  },
  {
   "cell_type": "code",
   "execution_count": null,
   "metadata": {},
   "outputs": [],
   "source": [
    "for i, topics in lda.show_topics(n_topics, formatted=False):\n",
    "    print('topic', i, ':', ' '.join([t for t, _ in topics]))"
   ]
  },
  {
   "cell_type": "code",
   "execution_count": null,
   "metadata": {},
   "outputs": [],
   "source": [
    "doc_weights_init = np.zeros((len(corpus_lda), n_topics))\n",
    "for i in tqdm(range(len(corpus_lda))):\n",
    "    topics = corpus_lda[i]\n",
    "    for j, prob in topics:\n",
    "        doc_weights_init[i, j] = prob"
   ]
  },
  {
   "cell_type": "markdown",
   "metadata": {},
   "source": [
    "# Save data"
   ]
  },
  {
   "cell_type": "code",
   "execution_count": null,
   "metadata": {},
   "outputs": [],
   "source": [
    "np.save('data.npy', data)\n",
    "np.save('word_vectors.npy', word_vectors)\n",
    "np.save('unigram_distribution.npy', unigram_distribution)\n",
    "np.save('decoder.npy', decoder)\n",
    "np.save('doc_decoder.npy', doc_decoder)\n",
    "np.save('doc_weights_init.npy', doc_weights_init)"
   ]
  },
  {
   "cell_type": "code",
   "execution_count": null,
   "metadata": {},
   "outputs": [],
   "source": []
  }
 ],
 "metadata": {
  "kernelspec": {
   "display_name": "Python 3",
   "language": "python",
   "name": "python3"
  },
  "language_info": {
   "codemirror_mode": {
    "name": "ipython",
    "version": 3
   },
   "file_extension": ".py",
   "mimetype": "text/x-python",
   "name": "python",
   "nbconvert_exporter": "python",
   "pygments_lexer": "ipython3",
   "version": "3.6.5"
  }
 },
 "nbformat": 4,
 "nbformat_minor": 2
}

{
 "cells": [
  {
   "cell_type": "code",
   "execution_count": 1,
   "metadata": {},
   "outputs": [],
   "source": [
    "%load_ext autoreload\n",
    "%autoreload 2"
   ]
  },
  {
   "cell_type": "code",
   "execution_count": null,
   "metadata": {},
   "outputs": [],
   "source": [
    "import random\n",
    "\n",
    "random.shuffle(data)\n",
    "\n",
    "print(data)"
   ]
  },
  {
   "cell_type": "code",
   "execution_count": null,
   "metadata": {},
   "outputs": [],
   "source": [
    "import re\n",
    "st = data[2]['content']\n",
    "st=re.sub(\"\\n\",\"\",st)\n",
    "st=re.sub(\"\\\\\\.*?\\s\",\"\",st)\n",
    "print(st)"
   ]
  },
  {
   "cell_type": "code",
   "execution_count": 2,
   "metadata": {},
   "outputs": [
    {
     "data": {
      "text/plain": [
       "100000"
      ]
     },
     "execution_count": 2,
     "metadata": {},
     "output_type": "execute_result"
    }
   ],
   "source": [
    "import json\n",
    "\n",
    "with open('data.json', 'r',encoding='utf-8') as f:\n",
    "    data = json.load(f)\n",
    "    data=data['response']['docs']\n",
    "len(data)"
   ]
  },
  {
   "cell_type": "code",
   "execution_count": 6,
   "metadata": {},
   "outputs": [],
   "source": [
    "train=list()\n",
    "test=list()\n",
    "for i in range(0,11):\n",
    "    st = data[i]['content']\n",
    "    st=re.sub(\"\\n\",\"\",st)\n",
    "    st=re.sub(\"\\\\\\.*?\\s\",\"\",st)\n",
    "    train.append(st)\n",
    "for i in range(11,18):\n",
    "    st = data[i]['content']\n",
    "    st=re.sub(\"\\n\",\"\",st)\n",
    "    st=re.sub(\"\\\\\\.*?\\s\",\"\",st)\n",
    "    test.append(st)"
   ]
  },
  {
   "cell_type": "code",
   "execution_count": 2,
   "metadata": {},
   "outputs": [
    {
     "name": "stderr",
     "output_type": "stream",
     "text": [
      "F:\\InstallationFiles\\Anaconda3\\envs\\for_pytorch\\lib\\site-packages\\gensim\\utils.py:1197: UserWarning: detected Windows; aliasing chunkize to chunkize_serial\n",
      "  warnings.warn(\"detected Windows; aliasing chunkize to chunkize_serial\")\n"
     ]
    }
   ],
   "source": [
    "from fetch_data import fetch_20newsgroups\n",
    "import numpy as np\n",
    "from tqdm import tqdm\n",
    "import spacy\n",
    "from gensim import corpora, models\n",
    "\n",
    "import sys\n",
    "sys.path.append('..')\n",
    "from utils import preprocess, get_windows"
   ]
  },
  {
   "cell_type": "code",
   "execution_count": 3,
   "metadata": {},
   "outputs": [],
   "source": [
    "MIN_COUNTS = 20\n",
    "MAX_COUNTS = 1800\n",
    "# words with count < MIN_COUNTS\n",
    "# and count > MAX_COUNTS\n",
    "# will be removed\n",
    "\n",
    "MIN_LENGTH = 15\n",
    "# minimum document length \n",
    "# (number of words)\n",
    "# after preprocessing\n",
    "\n",
    "# half the size of the context around a word\n",
    "HALF_WINDOW_SIZE = 5\n",
    "# it must be that 2*HALF_WINDOW_SIZE < MIN_LENGTH"
   ]
  },
  {
   "cell_type": "markdown",
   "metadata": {},
   "source": [
    "# Load NLP model"
   ]
  },
  {
   "cell_type": "code",
   "execution_count": 4,
   "metadata": {},
   "outputs": [],
   "source": [
    "nlp = spacy.load('en')"
   ]
  },
  {
   "cell_type": "markdown",
   "metadata": {},
   "source": [
    "# Load dataset"
   ]
  },
  {
   "cell_type": "code",
   "execution_count": 5,
   "metadata": {},
   "outputs": [],
   "source": [
    "from fetch_data import fetch_20newsgroups\n",
    "dataset = fetch_20newsgroups(data_home='D:/code python/LDA2vec/bangla news',subset='all', remove=('headers', 'footers', 'quotes'))\n",
    "docs = dataset['data']"
   ]
  },
  {
   "cell_type": "code",
   "execution_count": 6,
   "metadata": {},
   "outputs": [
    {
     "data": {
      "text/plain": [
       "99990"
      ]
     },
     "execution_count": 6,
     "metadata": {},
     "output_type": "execute_result"
    }
   ],
   "source": [
    "# number of documents\n",
    "len(docs)"
   ]
  },
  {
   "cell_type": "code",
   "execution_count": 7,
   "metadata": {},
   "outputs": [],
   "source": [
    "# store an index with a document\n",
    "docs = [(i, doc) for i, doc in enumerate(docs)]"
   ]
  },
  {
   "cell_type": "code",
   "execution_count": 8,
   "metadata": {},
   "outputs": [
    {
     "name": "stdout",
     "output_type": "stream",
     "text": [
      "(0, 'রাঙ্গাবালী উপজেলাText size A A AColor C C C Cপাতাউপজেলার পটভূমি১। অবস্থানঃ পটুয়াখালী জেলার সর্বদক্ষিনে বঙ্গোপসাগরের পাদদেশে\\xa0 উত্তরে চালিতাবুনিয়া নদী,\\xa0 আগুনমূখা নদী ও চর বিশ্বাস, পশ্চিমে রামনাবাদ চ্যানেল ও কলাপাড়া উপজেলা পূর্বে চর ফ্যাশন\\xa0 উপজেলার চর কুররী- মুকরী\\xa0 এবং দক্ষিনে বঙ্গোপসাগর। \\xa0২। উপজেলার নামকরনঃ রাঙ্গাবালী উপজেলার নামকরনের সঠিক ইতহাস জানা যায়নি। \\xa0তবে কথিত আছে যে, সাগর বক্ষে নতুন বালুচর সৃষ্টির ফলে কালের বিবর্তনে এই বালুচরের বালু লাল\\xa0 ছিল। \\xa0এই\\xa0 ‘‘লাল’’ \\xa0শব্দটি আঞ্চলিক ভাষায় রাঙ্গা নামে পরিচিত। এ থেকে রাঙ্গাবালি নামের উৎপত্তি। ইতিহাসবেত্তাগন জানান ১৭৮৪ সালে কতিপয় রাকাইন জনগোষ্ঠী আরাকান রাজ্য থেকে পালিয়ে এসে এ অঞ্চলে বসতি স্থাপন করে। তখন থেকে এতদঞ্চলে \\xa0জনবসতি শুরু হয়।৩। উপজেলার উৎপত্তিঃ ৭ জুন ২০১১ তারিখে নিকারের (ন্যাশনাল ইপপ্লিমেন্টেশন কমিটি ফর এ্যাডমিনিস্ট্রেশন রিফর্ম )\\xa0 ১০৫তম সভায় রাঙ্গাবালী উপজেলার প্রশাসনিক\\xa0 অনুমোদন হয়। এরই ধারাবাহিকতায় গত ১৩ জুন ২০১১ তারিখে বাংলাদেশ গেজেট প্রকাশিত হয়।')\n"
     ]
    }
   ],
   "source": [
    "print(docs[0])"
   ]
  },
  {
   "cell_type": "markdown",
   "metadata": {},
   "source": [
    "# Preprocess dataset and create windows"
   ]
  },
  {
   "cell_type": "code",
   "execution_count": 9,
   "metadata": {
    "scrolled": true
   },
   "outputs": [
    {
     "name": "stderr",
     "output_type": "stream",
     "text": [
      "  0%|                                                                             | 61/99990 [00:09<4:28:03,  6.21it/s]F:\\InstallationFiles\\Anaconda3\\envs\\for_pytorch\\lib\\site-packages\\tqdm\\_monitor.py:89: TqdmSynchronisationWarning: Set changed size during iteration (see https://github.com/tqdm/tqdm/issues/481)\n",
      "  TqdmSynchronisationWarning)\n",
      "100%|██████████████████████████████████████████████████████████████████████████| 99990/99990 [3:34:43<00:00,  7.76it/s]\n"
     ]
    },
    {
     "name": "stdout",
     "output_type": "stream",
     "text": [
      "number of removed short documents: 33312\n",
      "total number of tokens: 9784186\n",
      "number of tokens to be removed: 4987079\n",
      "number of additionally removed short documents: 21326\n",
      "total number of tokens: 4611025\n",
      "\n",
      "minimum word count number: 1\n",
      "this number can be less than MIN_COUNTS because of document removal\n"
     ]
    }
   ],
   "source": [
    "encoded_docs, decoder, word_counts = preprocess(\n",
    "    docs, nlp, MIN_LENGTH, MIN_COUNTS, MAX_COUNTS\n",
    ")"
   ]
  },
  {
   "cell_type": "code",
   "execution_count": 10,
   "metadata": {},
   "outputs": [],
   "source": [
    "# new ids will be created for the documents.\n",
    "# create a way of restoring initial ids:\n",
    "doc_decoder = {i: doc_id for i, (doc_id, doc) in enumerate(encoded_docs)}"
   ]
  },
  {
   "cell_type": "code",
   "execution_count": 11,
   "metadata": {},
   "outputs": [
    {
     "name": "stderr",
     "output_type": "stream",
     "text": [
      "12026it [00:09, 1221.67it/s]F:\\InstallationFiles\\Anaconda3\\envs\\for_pytorch\\lib\\site-packages\\tqdm\\_monitor.py:89: TqdmSynchronisationWarning: Set changed size during iteration (see https://github.com/tqdm/tqdm/issues/481)\n",
      "  TqdmSynchronisationWarning)\n",
      "45352it [00:32, 1396.10it/s]\n"
     ]
    }
   ],
   "source": [
    "data = []\n",
    "# new ids are created here\n",
    "for index, (_, doc) in tqdm(enumerate(encoded_docs)):\n",
    "    windows = get_windows(doc, HALF_WINDOW_SIZE)\n",
    "    # index represents id of a document, \n",
    "    # windows is a list of (word, window around this word),\n",
    "    # where word is in the document\n",
    "    data += [[index, w[0]] + w[1] for w in windows]\n",
    "\n",
    "data = np.array(data, dtype='int64')"
   ]
  },
  {
   "cell_type": "code",
   "execution_count": 12,
   "metadata": {},
   "outputs": [
    {
     "data": {
      "text/plain": [
       "12"
      ]
     },
     "execution_count": 12,
     "metadata": {},
     "output_type": "execute_result"
    }
   ],
   "source": [
    "# a row in 'data' contains:\n",
    "# id of a document, id of a word in this document, a window around this word\n",
    "# 1 + 1 + 10\n",
    "data.shape[1]"
   ]
  },
  {
   "cell_type": "code",
   "execution_count": 13,
   "metadata": {},
   "outputs": [
    {
     "data": {
      "text/plain": [
       "4611025"
      ]
     },
     "execution_count": 13,
     "metadata": {},
     "output_type": "execute_result"
    }
   ],
   "source": [
    "# number of windows (equals to the total number of tokens)\n",
    "data.shape[0]"
   ]
  },
  {
   "cell_type": "markdown",
   "metadata": {},
   "source": [
    "# Get unigram distribution"
   ]
  },
  {
   "cell_type": "code",
   "execution_count": 14,
   "metadata": {},
   "outputs": [],
   "source": [
    "word_counts = np.array(word_counts)\n",
    "unigram_distribution = word_counts/sum(word_counts)"
   ]
  },
  {
   "cell_type": "markdown",
   "metadata": {},
   "source": [
    "# Prepare word vectors"
   ]
  },
  {
   "cell_type": "code",
   "execution_count": 15,
   "metadata": {},
   "outputs": [
    {
     "ename": "KeyError",
     "evalue": "\"word '32463' not in vocabulary\"",
     "output_type": "error",
     "traceback": [
      "\u001b[1;31m---------------------------------------------------------------------------\u001b[0m",
      "\u001b[1;31mKeyError\u001b[0m                                  Traceback (most recent call last)",
      "\u001b[1;32m<timed exec>\u001b[0m in \u001b[0;36m<module>\u001b[1;34m()\u001b[0m\n",
      "\u001b[1;32mF:\\InstallationFiles\\Anaconda3\\envs\\for_pytorch\\lib\\site-packages\\gensim\\models\\keyedvectors.py\u001b[0m in \u001b[0;36m__getitem__\u001b[1;34m(self, entities)\u001b[0m\n\u001b[0;32m    167\u001b[0m         \u001b[1;32mif\u001b[0m \u001b[0misinstance\u001b[0m\u001b[1;33m(\u001b[0m\u001b[0mentities\u001b[0m\u001b[1;33m,\u001b[0m \u001b[0mstring_types\u001b[0m\u001b[1;33m)\u001b[0m\u001b[1;33m:\u001b[0m\u001b[1;33m\u001b[0m\u001b[0m\n\u001b[0;32m    168\u001b[0m             \u001b[1;31m# allow calls like trained_model['office'], as a shorthand for trained_model[['office']]\u001b[0m\u001b[1;33m\u001b[0m\u001b[1;33m\u001b[0m\u001b[0m\n\u001b[1;32m--> 169\u001b[1;33m             \u001b[1;32mreturn\u001b[0m \u001b[0mself\u001b[0m\u001b[1;33m.\u001b[0m\u001b[0mget_vector\u001b[0m\u001b[1;33m(\u001b[0m\u001b[0mentities\u001b[0m\u001b[1;33m)\u001b[0m\u001b[1;33m\u001b[0m\u001b[0m\n\u001b[0m\u001b[0;32m    170\u001b[0m \u001b[1;33m\u001b[0m\u001b[0m\n\u001b[0;32m    171\u001b[0m         \u001b[1;32mreturn\u001b[0m \u001b[0mvstack\u001b[0m\u001b[1;33m(\u001b[0m\u001b[1;33m[\u001b[0m\u001b[0mself\u001b[0m\u001b[1;33m.\u001b[0m\u001b[0mget_vector\u001b[0m\u001b[1;33m(\u001b[0m\u001b[0mentity\u001b[0m\u001b[1;33m)\u001b[0m \u001b[1;32mfor\u001b[0m \u001b[0mentity\u001b[0m \u001b[1;32min\u001b[0m \u001b[0mentities\u001b[0m\u001b[1;33m]\u001b[0m\u001b[1;33m)\u001b[0m\u001b[1;33m\u001b[0m\u001b[0m\n",
      "\u001b[1;32mF:\\InstallationFiles\\Anaconda3\\envs\\for_pytorch\\lib\\site-packages\\gensim\\models\\keyedvectors.py\u001b[0m in \u001b[0;36mget_vector\u001b[1;34m(self, word)\u001b[0m\n\u001b[0;32m    275\u001b[0m \u001b[1;33m\u001b[0m\u001b[0m\n\u001b[0;32m    276\u001b[0m     \u001b[1;32mdef\u001b[0m \u001b[0mget_vector\u001b[0m\u001b[1;33m(\u001b[0m\u001b[0mself\u001b[0m\u001b[1;33m,\u001b[0m \u001b[0mword\u001b[0m\u001b[1;33m)\u001b[0m\u001b[1;33m:\u001b[0m\u001b[1;33m\u001b[0m\u001b[0m\n\u001b[1;32m--> 277\u001b[1;33m         \u001b[1;32mreturn\u001b[0m \u001b[0mself\u001b[0m\u001b[1;33m.\u001b[0m\u001b[0mword_vec\u001b[0m\u001b[1;33m(\u001b[0m\u001b[0mword\u001b[0m\u001b[1;33m)\u001b[0m\u001b[1;33m\u001b[0m\u001b[0m\n\u001b[0m\u001b[0;32m    278\u001b[0m \u001b[1;33m\u001b[0m\u001b[0m\n\u001b[0;32m    279\u001b[0m     \u001b[1;32mdef\u001b[0m \u001b[0mwords_closer_than\u001b[0m\u001b[1;33m(\u001b[0m\u001b[0mself\u001b[0m\u001b[1;33m,\u001b[0m \u001b[0mw1\u001b[0m\u001b[1;33m,\u001b[0m \u001b[0mw2\u001b[0m\u001b[1;33m)\u001b[0m\u001b[1;33m:\u001b[0m\u001b[1;33m\u001b[0m\u001b[0m\n",
      "\u001b[1;32mF:\\InstallationFiles\\Anaconda3\\envs\\for_pytorch\\lib\\site-packages\\gensim\\models\\keyedvectors.py\u001b[0m in \u001b[0;36mword_vec\u001b[1;34m(self, word, use_norm)\u001b[0m\n\u001b[0;32m    272\u001b[0m             \u001b[1;32mreturn\u001b[0m \u001b[0mresult\u001b[0m\u001b[1;33m\u001b[0m\u001b[0m\n\u001b[0;32m    273\u001b[0m         \u001b[1;32melse\u001b[0m\u001b[1;33m:\u001b[0m\u001b[1;33m\u001b[0m\u001b[0m\n\u001b[1;32m--> 274\u001b[1;33m             \u001b[1;32mraise\u001b[0m \u001b[0mKeyError\u001b[0m\u001b[1;33m(\u001b[0m\u001b[1;34m\"word '%s' not in vocabulary\"\u001b[0m \u001b[1;33m%\u001b[0m \u001b[0mword\u001b[0m\u001b[1;33m)\u001b[0m\u001b[1;33m\u001b[0m\u001b[0m\n\u001b[0m\u001b[0;32m    275\u001b[0m \u001b[1;33m\u001b[0m\u001b[0m\n\u001b[0;32m    276\u001b[0m     \u001b[1;32mdef\u001b[0m \u001b[0mget_vector\u001b[0m\u001b[1;33m(\u001b[0m\u001b[0mself\u001b[0m\u001b[1;33m,\u001b[0m \u001b[0mword\u001b[0m\u001b[1;33m)\u001b[0m\u001b[1;33m:\u001b[0m\u001b[1;33m\u001b[0m\u001b[0m\n",
      "\u001b[1;31mKeyError\u001b[0m: \"word '32463' not in vocabulary\""
     ]
    }
   ],
   "source": [
    "%%time\n",
    "vocab_size = len(decoder)\n",
    "embedding_dim = 50\n",
    "\n",
    "# train a skip-gram word2vec model\n",
    "texts = [[str(j) for j in doc] for i, doc in encoded_docs]\n",
    "model = models.Word2Vec(texts, size=embedding_dim, window=5, workers=4, sg=1, negative=15, iter=70)\n",
    "model.init_sims(replace=True)\n",
    "\n",
    "word_vectors = np.zeros((vocab_size, embedding_dim)).astype('float32')\n",
    "for i in decoder:\n",
    "    word_vectors[i] = model.wv[str(i)]"
   ]
  },
  {
   "cell_type": "code",
   "execution_count": 16,
   "metadata": {},
   "outputs": [
    {
     "data": {
      "text/plain": [
       "32589"
      ]
     },
     "execution_count": 16,
     "metadata": {},
     "output_type": "execute_result"
    }
   ],
   "source": [
    "# number of unique words\n",
    "vocab_size"
   ]
  },
  {
   "cell_type": "markdown",
   "metadata": {
    "collapsed": true
   },
   "source": [
    "# Prepare initialization for document weights"
   ]
  },
  {
   "cell_type": "code",
   "execution_count": 17,
   "metadata": {},
   "outputs": [],
   "source": [
    "texts = [[decoder[j] for j in doc] for i, doc in encoded_docs]\n",
    "dictionary = corpora.Dictionary(texts)\n",
    "corpus = [dictionary.doc2bow(text) for text in texts]"
   ]
  },
  {
   "cell_type": "code",
   "execution_count": 43,
   "metadata": {},
   "outputs": [
    {
     "name": "stdout",
     "output_type": "stream",
     "text": [
      "Wall time: 1min 30s\n"
     ]
    }
   ],
   "source": [
    "%%time\n",
    "n_topics = 40\n",
    "lda = models.LdaModel(corpus, alpha=0.9, id2word=dictionary, num_topics=n_topics)\n",
    "corpus_lda = lda[corpus]"
   ]
  },
  {
   "cell_type": "code",
   "execution_count": 36,
   "metadata": {},
   "outputs": [
    {
     "name": "stdout",
     "output_type": "stream",
     "text": [
      "topic 0 : প্রেমিকা প্রেমপত্র অনুভব অনুভুতি অনুভূতি আক্রান্ত শিশুর হাত ভাল কারনে\n",
      "topic 1 : ged consultative forestry smes broadly seeking much psd demographer ipid\n",
      "topic 2 : civics(269,270 c(267,268 সম্প্রসারণ অবহিত থানার ভারপ্রাপ্ত গ্রেফতার অপরাধ parishad পরিষদকে\n",
      "topic 3 : রেজিস্ট্রেশন দরপত্র ভাতা বিয়ে কর্মকর্তার প্রেরণ প্রাপ্তির প্রাপ্ত অনুসারে সরবরাহ\n",
      "topic 4 : খতিয়ান বৈশাখ রেকর্ড মালিক প্রস্তুত ক্রমিক সম্পত্তি দাগ নাম্বার প্রত্যেকটি\n",
      "topic 5 : woo মামলা মামলার আদালতের আদালতে 35.00 maria xiaomi বিচার sale\n",
      "topic 6 : বিনিয়োগ অর্থনৈতিক খাতে দশমিক পোশাক দাম গবেষণা ব্যাংকের পাশাপাশি ডলার\n",
      "topic 7 : results calendar login attendance lab mission administration club panel portal\n",
      "topic 8 : wamy construction font tender document click procurement windows file apartment\n",
      "topic 9 : core intel gen তেল খাবার optiplex 6th review(s পদ্ধতি series\n",
      "topic 10 : বিদ্যালয়টি ভবন কলেজের শিক্ষার্থীদের লাভ প্রতিষ্ঠিত স্কুলের পরীক্ষায় বিজ্ঞান অধ্যাপক\n",
      "topic 11 : usb music device charge output battery wireless sound camera xiaomi\n",
      "topic 12 : কোডঃ ক্যালেন্ডার mba বৃত্তি ক্লাশ পাঠ্যক্রম ব্যয় dolore পাঠ্যতালিকা ফটো\n",
      "topic 13 : রাসত্মা নির্মান পর্যমত্ম গভীর নলকুপ পাকা পশ্চিম পাশে পূর্ব মৃধা\n",
      "topic 14 : অষ্টম শ্রেনি ষষ্ঠ সপ্তম পরিক্ষার ভোকেশনাল বার্তা পরিচিতি ligula justo\n",
      "topic 15 : clothing yarn customer dye chemical purpose oil range want fiber\n",
      "topic 16 : 4th vol aliquam বিরোধী জঙ্গী posuere সমাবেশসন্ত্রাস hasan mohammad bibendum\n",
      "topic 17 : 4359 5517 4190 5049 1,100.00 4188 google pricing images extended\n",
      "topic 18 : public_html /home counter cda plugin রেড mechanic statsmechanic.php kashsedu mysql_query\n",
      "topic 19 : রেজাল্ট বিজ্ঞপ্তি লিঙ্ক শীর্ষক ডায়নামিক ডাউনলোড সংবাদ ওয়েবসাইটের থাকায় অনুরোধ\n"
     ]
    }
   ],
   "source": [
    "for i, topics in lda.show_topics(n_topics, formatted=False):\n",
    "    print('topic', i, ':', ' '.join([t for t, _ in topics]))"
   ]
  },
  {
   "cell_type": "code",
   "execution_count": 20,
   "metadata": {},
   "outputs": [
    {
     "name": "stdout",
     "output_type": "stream",
     "text": [
      "topic 0 : login results mission lab calendar club vision english panel facilities\n",
      "topic 1 : প্রেমিকা প্রেমপত্র বৈশাখ অনুভব অনুভুতি অনুভূতি রেড সুখ ভাষা বুঝবে\n",
      "topic 2 : dye yarn chemical easy fiber device dyeing range charge oil\n",
      "topic 3 : public_html বিরোধী /home জঙ্গী সমাবেশসন্ত্রাস core সম্প্রসারণ intel plugin counter\n",
      "topic 4 : ক্যালেন্ডার কোডঃ বৃত্তি ক্লাশ পাঠ্যক্রম কার্টে ব্যয় নবায়ন পাঠ্যতালিকা ফটো\n",
      "topic 5 : ভাতা mba সমাজসেবা dolore কেন্দ্রে কল্যাণ রোগীদের আগত দেয়া qui\n",
      "topic 6 : 1,100.00 850.00 woo 3627 999.00 আদালতের logo 2,250.00 20.00 35.00\n",
      "topic 7 : রেজিস্ট্রেশন বিয়ে বিয়ের মৃত্যু দলিল বিবাহ অফিসে নামজারি খাস কপি\n",
      "topic 8 : rise gdp poor domestic revenue loan ldc however progress estimate\n",
      "topic 9 : বিনিয়োগ খাতে অর্থনৈতিক দশমিক পোশাক দাম ব্যাংকের রাজস্ব গবেষণা ডলার\n",
      "topic 10 : রাসত্মা নির্মান পর্যমত্ম পাকা গভীর নলকুপ পশ্চিম পাশে মৃধা সংলগ্ন\n",
      "topic 11 : রেজাল্ট লিঙ্ক শীর্ষক বিজ্ঞপ্তি ডায়নামিক অনুরোধ corner খ্রি শিক্ষাবর্ষে ধন্যবাদ\n",
      "topic 12 : 4th vol hasan mohammad m.a. 2009 japan plant 2008 sciences\n",
      "topic 13 : c(267,268 civics(269,270 ãƒâ€šã‚â বিদ্যুৎ approx ãƒæ’ã¢â‚¬å¡ãƒâ€šã‚â auto frame flash fingerprint\n",
      "topic 14 : খতিয়ান মালিক প্রস্তুত সম্পত্তি রেকর্ড ক্রমিক vii প্রত্যেকটি নাম্বার মৌজা\n",
      "topic 15 : adipisc sem aliquam ligula fringilla semper nunc posuere enim massa\n",
      "topic 16 : customer series host limited ltd. marketing fair purpose network professional\n",
      "topic 17 : ged consultative forestry smes broadly seeking much psd demographer ipid\n",
      "topic 18 : অধ্যাপক আওয়ামী বিভাগের সম্পাদক ডেস্ক এলাকায় দলের মো. সাবেক উন্নয়নের\n",
      "topic 19 : বিদ্যালয়টি কলেজের শিক্ষার্থীদের পরিচিতি অষ্টম ভবন পরিক্ষার শ্রেনি বার্তা বেতন\n",
      "topic 20 : party sobhan prof child guest pakistan election mr. seminar rehman\n",
      "topic 21 : আক্রান্ত খাবার সাহায্য শিশুর কারনে রোগ ভাল থাকলে রাখতে ওজন\n",
      "topic 22 : পরিদর্শক মাসিক ওয়েবসাইটের সর্বমোট থাকায় ডেভেলপমেন্ট আছেন উইকেট ভারতীয় ম্যাচের\n",
      "topic 23 : xiaomi printing pro commissioner publications usb gazette hmi interface software\n",
      "topic 24 : 4359 5517 4190 5049 4188 google pricing visual images pink\n"
     ]
    }
   ],
   "source": [
    "for i, topics in lda.show_topics(n_topics, formatted=False):\n",
    "    print('topic', i, ':', ' '.join([t for t, _ in topics]))"
   ]
  },
  {
   "cell_type": "code",
   "execution_count": 40,
   "metadata": {},
   "outputs": [
    {
     "name": "stdout",
     "output_type": "stream",
     "text": [
      "topic 0 : আওয়ামী nunc সম্পাদক aliquam libero euismod nibh ante erat sagittis\n",
      "topic 1 : রেজিস্ট্রেশন বিয়ে কর্মকর্তার নবায়ন বিয়ের অফিসের দলিল কপি কোড বিবাহ\n",
      "topic 2 : শীর্ষক ডায়নামিক অনুরোধ ধন্যবাদ কক্ষে bdt খ্রি শিক্ষাবর্ষে থাকার নির্দেশ\n",
      "topic 3 : dye yarn chemical oil fiber dyeing method range fibre delivery\n",
      "topic 4 : login tender administration cda links portal printing publications principal attendance\n",
      "topic 5 : খতিয়ান মালিক প্রস্তুত দরপত্র সমাজসেবা সম্পত্তি ভাতা সভায় রেকর্ড মোতাবেক\n",
      "topic 6 : party domestic gdp rise loan revenue big poor ldc progress\n",
      "topic 7 : সম্প্রসারণ মৃত্যু বরিশাল সময় মুসলিম প্রযুক্তি আল্লাহ কৃষকদের সার উৎপাদন\n",
      "topic 8 : রাসত্মা নির্মান পর্যমত্ম পশ্চিম গভীর পাকা নলকুপ পাশে পূর্ব মৃধা\n",
      "topic 9 : fringilla bibendum তেল ãƒâ€šã‚â ãƒæ’ã¢â‚¬å¡ãƒâ€šã‚â admin ali vulputate semper cras\n",
      "topic 10 : আক্রান্ত খাবার শিশুর core intel সাহায্য রোগ থাকলে কারনে ভাল\n",
      "topic 11 : host উইকেট server client manage ম্যাচের software দ্বিতীয় ভারতীয় personal\n",
      "topic 12 : 1,100.00 850.00 3627 999.00 2,250.00 results lab shirt nine ten\n",
      "topic 13 : ged consultative forestry smes broadly seeking much psd demographer ipid\n",
      "topic 14 : বিনিয়োগ অর্থনৈতিক খাতে দশমিক পোশাক দাম ব্যাংকের গবেষণা ডলার ভারত\n",
      "topic 15 : music device usb xiaomi charge wireless sound battery output pro\n",
      "topic 16 : রেজাল্ট লিঙ্ক ক্যালেন্ডার বৃত্তি ফটো পাঠ্যক্রম ক্লাশ ব্যয় ডাউনলোড পাঠ\n",
      "topic 17 : index khulna description district code last please incod 12:35 parent\n",
      "topic 18 : woo counter /home public_html plugin mechanic kashsedu statsmechanic.php sale series\n",
      "topic 19 : civics(269,270 c(267,268 4th যুব rent public_html শাখা পৌরসভা /home maacombd\n",
      "topic 20 : seminar mr. session professional prof faculty sobhan mohammad cooperation award\n",
      "topic 21 : কোডঃ indicator শ্রেণির ২০১৫ এন্ড শ্রেণি শিক্ষার্থীদের কলেজের বিজ্ঞান উপলক্ষে\n",
      "topic 22 : বিরোধী জঙ্গী সমাবেশসন্ত্রাস রেড জাতীয় আন্দোলনের ক্রিকেট ক্রস পুরস্কার অ্যান্ড\n",
      "topic 23 : বিজ্ঞপ্তি পরিদর্শক ওয়েবসাইটের মাসিক বালিকা থাকায় ডেভেলপমেন্ট আইসিটি আছেন আন্তরিকভাবে\n",
      "topic 24 : 4359 5517 4190 5049 4188 pricing google extended alert classic\n",
      "topic 25 : মহান অধ্যাপক প্রতিষ্ঠানটি বিদ্যালয়টি অবহিত কলেজের আধুনিক তাদেরকে থানার প্রতিষ্ঠিত\n",
      "topic 26 : মামলা আদালতের মামলার অনুসারে আদালতে approx বিচার চেয়ারম্যান ব্যবহারিক auto\n",
      "topic 27 : প্রেমিকা প্রেমপত্র বৈশাখ অনুভব অনুভুতি অনুভূতি শ্রেনি অষ্টম ষষ্ঠ সপ্তম\n",
      "topic 28 : dolore commissioner enim qui labore voluptatem velit magna s adipisicing\n",
      "topic 29 : wamy m.a. hasan vol plant construction rashid sciences m.s. sci\n"
     ]
    }
   ],
   "source": [
    "for i, topics in lda.show_topics(n_topics, formatted=False):\n",
    "    print('topic', i, ':', ' '.join([t for t, _ in topics]))"
   ]
  },
  {
   "cell_type": "code",
   "execution_count": 28,
   "metadata": {},
   "outputs": [
    {
     "name": "stdout",
     "output_type": "stream",
     "text": [
      "topic 0 : বিদ্যালয়টি শিক্ষার্থীদের ভবন অবস্থিত কলেজের বিজ্ঞান লাভ পরীক্ষায় প্রতিষ্ঠিত বিদ্যালয়ে\n",
      "topic 1 : ged consultative forestry smes broadly seeking much psd demographer ipid\n",
      "topic 2 : woo select 35.00 maria sale parishad welcome rat ইন্টারনেট logo\n",
      "topic 3 : lab calendar club login results wamy panel facilities mission sports\n",
      "topic 4 : মিয়া দক্ষিণ আব্দুল চন্দ্র আবুল আলম কুমার মোহাম্মদ আক্তার কিলোমিটার\n",
      "topic 5 : পরিদর্শক বালিকা bdt ওয়েবসাইটের থাকায় ডেভেলপমেন্ট রোড মাসিক আছেন আন্তরিকভাবে\n",
      "topic 6 : /home public_html mba counter plugin mechanic buyer statsmechanic.php kashsedu rana\n",
      "topic 7 : music core xiaomi usb charge intel wireless gen device battery\n",
      "topic 8 : আক্রান্ত খাবার সাহায্য শিশুর রোগ কারনে নিয়মিত তেল রাখতে থাকলে\n",
      "topic 9 : বিজ্ঞপ্তি write card certificate payment password ltd. court achievement candidate\n",
      "topic 10 : dolore qui enim labore voluptatem সমবায় adipisicing s velit magna\n",
      "topic 11 : রেড জাতীয় আন্দোলনের জরুরী অ্যান্ড শাখা নবায়ন ক্রস ফেডারেশন পুরস্কার\n",
      "topic 12 : রেজাল্ট রেজিস্ট্রেশন লিঙ্ক বিয়ে বিয়ের কেন্দ্রে ডাউনলোড অধিদপ্তর সংবাদ ডিগ্রী\n",
      "topic 13 : 4359 5517 4190 5049 1,100.00 4188 google pricing images extended\n",
      "topic 14 : party child want election family risk have live buy big\n",
      "topic 15 : vol hasan mohammad seminar m.a. 2009 chowdhury plant japan prof\n",
      "topic 16 : প্রেমিকা প্রেমপত্র বৈশাখ অনুভব অনুভুতি অনুভূতি সুখ ভাষা বুঝবে পহেলা\n",
      "topic 17 : বিনিয়োগ খাতে অর্থনৈতিক দশমিক দাম পোশাক ব্যাংকের গবেষণা রাজস্ব টাকার\n",
      "topic 18 : 4th c(267,268 civics(269,270 language rent room bengali art english mr.\n",
      "topic 19 : dye yarn chemical clothing fiber range dyeing denim fibre temperature\n",
      "topic 20 : gdp domestic poor ldc rise revenue cooperation discussion suggest crore\n",
      "topic 21 : বরিশাল কোডঃ আইসিটি জেলাঃ ãƒâ€šã‚â ãƒæ’ã¢â‚¬å¡ãƒâ€šã‚â ইউনিসল উপজেলাঃ পোস্ট ...............\n",
      "topic 22 : রাসত্মা নির্মান পর্যমত্ম নলকুপ গভীর পাকা শীর্ষক পাশে মৃধা পশ্চিম\n",
      "topic 23 : host description server 18:25 index last modify parent file port\n",
      "topic 24 : আওয়ামী সম্পাদক অধ্যাপক ডেস্ক মো. ঘটনা ছেলে হাতে লীগের দলের\n",
      "topic 25 : কার্টে ট্যাক্স অন্তর্ভুক্ত স্কুলের শ্রেণীর জেলা- যোগ liver চেক যুক্ত\n",
      "topic 26 : ভাতা সমাজসেবা কর্মকর্তার প্রাপ্তির সভার সভা ইউপি উন্নয়ন দরিদ্র বরাদ্দ\n",
      "topic 27 : অষ্টম পরিচিতি বার্তা পরিক্ষার শ্রেনি ষষ্ঠ সপ্তম ভোকেশনাল প্রাক্তন বেতন\n",
      "topic 28 : বিরোধী জঙ্গী সমাবেশসন্ত্রাস ক্যালেন্ডার বৃত্তি ক্লাশ fringilla ব্যয় পাঠ্যক্রম adipisc\n",
      "topic 29 : cda অবহিত তাদেরকে ভারপ্রাপ্ত থানার অপরাধ গ্রেফতার আছেন মহান অধ্যাপক\n",
      "topic 30 : pro network software record output hmi portal mission vision interface\n",
      "topic 31 : খতিয়ান রেকর্ড মালিক প্রস্তুত সম্পত্তি ক্রমিক প্রত্যেকটি মৌজা নাম্বার দাগ\n",
      "topic 32 : aliquam nunc posuere libero semper ante nibh enim sed euismod\n",
      "topic 33 : commissioner printing khulna gazette publications উইকেট দ্বিতীয় ক্রিকেট ভারতীয় ম্যাচের\n",
      "topic 34 : fingerprint যুব সম্পূর্ণ বিস্তারিত cell খেলতে ডাকঘর থাকায় আল্লাহ sunday\n"
     ]
    }
   ],
   "source": [
    "for i, topics in lda.show_topics(n_topics, formatted=False):\n",
    "    print('topic', i, ':', ' '.join([t for t, _ in topics]))"
   ]
  },
  {
   "cell_type": "code",
   "execution_count": 44,
   "metadata": {},
   "outputs": [
    {
     "name": "stdout",
     "output_type": "stream",
     "text": [
      "topic 0 : child mr. family house rana plaza want prof bgmea buy\n",
      "topic 1 : ged consultative forestry smes broadly seeking much psd demographer ipid\n",
      "topic 2 : নামঃ বিক্রি দাম চাল দক্ষিণ কেজি কর্মসূচী জুন লক্ষ্য সঞ্চয়পত্র\n",
      "topic 3 : শিক্ষার্থীদের বিজ্ঞান corner attendance portal certificate পরীক্ষায় achievement managing code\n",
      "topic 4 : বিরোধী civics(269,270 c(267,268 জঙ্গী সমাবেশসন্ত্রাস ãƒâ€šã‚â bdt ãƒæ’ã¢â‚¬å¡ãƒâ€šã‚â general.xls log_2015\n",
      "topic 5 : dye yarn clothing dyeing jute chemical denim manufacturer strictly purpose\n",
      "topic 6 : সম্প্রসারণ কর্মকর্তার মহান কল্যাণ কৃষকদের আছেন কমিশনার যোগ্যতা কপি ইংরেজিতে\n",
      "topic 7 : রাসত্মা পর্যমত্ম নির্মান গভীর নলকুপ পাশে পশ্চিম পূর্ব কালভার্ট পাকা\n",
      "topic 8 : party poor gdp domestic revenue rise however loan estimate suggest\n",
      "topic 9 : pro host software output hmi input server network tool interface\n",
      "topic 10 : খতিয়ান মালিক রেকর্ড প্রস্তুত সম্পত্তি ক্রমিক প্রত্যেকটি নাম্বার দাগ মৌজা\n",
      "topic 11 : session english ldc club debate publication former vol sports language\n",
      "topic 12 : dolore qui enim labore voluptatem 12:35 adipisicing s velit est\n",
      "topic 13 : tender স্থানে উন্নয়ন click প্রকাশিত procurement document পাট cptu font\n",
      "topic 14 : পরিদর্শক ওয়েবসাইটের থাকায় স্কুলের বালিকা ডেভেলপমেন্ট আছেন আন্তরিকভাবে অসম্পূর্ণ সর্বমোট\n",
      "topic 15 : results links login রেড lab calendar nine ten principal জাতীয়\n",
      "topic 16 : অষ্টম শ্রেনি পরিক্ষার ষষ্ঠ সপ্তম বার্তা ভোকেশনাল পরিচিতি আব্দুল সফর\n",
      "topic 17 : আক্রান্ত খাবার সাহায্য শিশুর ভাল কারনে থাকলে রাখতে রোগ নিয়মিত\n",
      "topic 18 : বিদ্যালয়টি অবস্থিত ভবন মাদ্রাসা গলাচিপা মাঠ বরিশাল মরহুম সনে পাকা\n",
      "topic 19 : প্রেমিকা প্রেমপত্র বৈশাখ অনুভব অনুভুতি অনুভূতি ভাষা সুখ বুঝবে রাত\n",
      "topic 20 : 4359 5517 4190 5049 1,100.00 4188 rating google pricing images\n",
      "topic 21 : 4th রেজাল্ট লিঙ্ক ডিগ্রী ডাউনলোড অধিদপ্তর সংবাদ সম্পদ অনার্স jsc\n",
      "topic 22 : core intel gen optiplex 6th ডিজিটাল ক্রিকেট dell desktop 7th\n",
      "topic 23 : রেজিস্ট্রেশন মামলা আদালতের বিয়ে মামলার বিয়ের আদালতে ধারা অনুসারে বিচার\n",
      "topic 24 : public_html /home counter plugin mechanic statsmechanic.php kashsedu mysql_query রোগীদের password\n",
      "topic 25 : শীর্ষক ক্যালেন্ডার বৃত্তি ক্লাশ ডায়নামিক পাঠ্যক্রম ব্যয় অনুরোধ পাঠ্যতালিকা জরুরী\n",
      "topic 26 : mba approx auto flash frame file bba regular memory evening\n",
      "topic 27 : দরপত্র বিল বেতন ইজারা বিদ্যুৎ হাট লাইসেন্স পত্র পরিশোধ আদায়\n",
      "topic 28 : cda কার্টে ট্যাক্স অন্তর্ভুক্ত 18:25 রাঙ্গাবালী top residential 12:26 authority\n",
      "topic 29 : oil property temperature fiber fibre treatment method disease remove agent\n",
      "topic 30 : থানার অবহিত ভারপ্রাপ্ত পুলিশের গ্রেফতার থানায় অপরাধ থানা কর্মকর্তাকে মৃত্যু\n",
      "topic 31 : hasan m.a. japan plant sciences rashid mohammad haque m.s. vol\n",
      "topic 32 : বিনিয়োগ খাতে দশমিক অর্থনৈতিক পোশাক গবেষণা অধ্যাপক ব্যাংকের ডলার ভারত\n",
      "topic 33 : music xiaomi charge usb device easy wireless smart sound battery\n",
      "topic 34 : কলেজের এন্ড শ্রেণির লাভ তারিখে প্রতিষ্ঠাতা ২০১৫ কলেজে ডিগ্রি প্রতিষ্ঠিত\n",
      "topic 35 : ভাতা সমাজসেবা উন্নয়নের বরাদ্দ সভা প্রকল্পের বাস্তবায়ন সভায় ইউপি সভার\n",
      "topic 36 : series বিজ্ঞপ্তি fair review(s fel flat limited partner exclusive log\n",
      "topic 37 : wamy construction publications activities printing tag dummy art estate deadline\n",
      "topic 38 : adipisc sem aliquam ligula fringilla semper nunc posuere massa bibendum\n",
      "topic 39 : write faculty card marketing candidate professional seminar complete court field\n"
     ]
    }
   ],
   "source": [
    "for i, topics in lda.show_topics(n_topics, formatted=False):\n",
    "    print('topic', i, ':', ' '.join([t for t, _ in topics]))"
   ]
  },
  {
   "cell_type": "code",
   "execution_count": 32,
   "metadata": {},
   "outputs": [
    {
     "name": "stdout",
     "output_type": "stream",
     "text": [
      "topic 0 : রেজিস্ট্রেশন বিয়ে কেন্দ্রে সরবরাহ মুসলিম বিবাহ রোগীদের আল্লাহ আগত দেয়া\n",
      "topic 1 : আক্রান্ত খাবার শিশুর রোগ ওজন কারনে ক্যান্সার শরীরের ডাক্তার নিন\n",
      "topic 2 : কার্টে vii ট্যাক্স অন্তর্ভুক্ত viii iii 12:26 চেক যুক্ত theme\n",
      "topic 3 : party want child family alliance rana have plaza election union\n",
      "topic 4 : কোডঃ জেলাঃ জেলা- liver উপজেলাঃ পোস্ট ঈদগাহ উপজেলা- নং- থানা\n",
      "topic 5 : আওয়ামী ডেস্ক দলের story সম্পাদক লীগের নেতা গতকাল চাঁদনী ঘটনা\n",
      "topic 6 : উন্নয়নের স্থানে খাদ্য উন্নয়ন সভার চাল পাট নিষিদ্ধ প্রয়োজনীয় শস্য\n",
      "topic 7 : 4th c(267,268 civics(269,270 rent room electricity tag connection apartment bed\n",
      "topic 8 : বিদ্যালয়টি অবস্থিত ভবন প্রতিষ্ঠিত মাদ্রাসা পূর্ব সনে কক্ষ বিদ্যালয়ে নির্মাণ\n",
      "topic 9 : ব্যবহারিক শিক্ষার্থীদের স্কুলের শ্রেণির কোর্স সম্পূর্ণ পরীক্ষায় ২০১৫ arabic থাকায়\n",
      "topic 10 : বালিকা মাসিক পরিদর্শক আছেন ওয়েবসাইটের থাকায় ডেভেলপমেন্ট সবাইকে সাপ্তাহিক স্বাগতম\n",
      "topic 11 : pro software construction hmi art interface dummy print series designer\n",
      "topic 12 : 1,100.00 850.00 3627 999.00 2,250.00 poster shirt 3922 4536 350.00\n",
      "topic 13 : vol wamy mba knowledge professional award workshop language faculty field\n",
      "topic 14 : hall shall enter src watch পরিচিতি haxorboi hacked script sunday\n",
      "topic 15 : public_html তেল /home দ্বিতীয় ম্যাচের সমবায় সমিতি ভারতীয় ইউআইএসসি উইকেট\n",
      "topic 16 : ভাতা সমাজসেবা review(s series fel fair বরাদ্দ নিজ প্রতিবন্ধী সভা\n",
      "topic 17 : 4359 5517 4190 5049 4188 google pricing images extended classic\n",
      "topic 18 : প্রেমিকা প্রেমপত্র বৈশাখ অনুভব অনুভুতি অনুভূতি মৃধা মিয়া সুখ বুঝবে\n",
      "topic 19 : cda tender corner font click document certificate procurement planning cptu\n",
      "topic 20 : বিরোধী জঙ্গী সমাবেশসন্ত্রাস সাময়িক জ্ঞানের জুলাই শিক্ষাবর্ষের ইংরেজি শনিবার মিনিট\n",
      "topic 21 : ãƒâ€šã‚â ãƒæ’ã¢â‚¬å¡ãƒâ€šã‚â 8802 ২০১৮ article জানুয়ারি শুক্রবার 9183202 সাধারণত এরকম\n",
      "topic 22 : রেজাল্ট লিঙ্ক সংবাদ ডাউনলোড পাবলিক ডিগ্রী সম্পদ ফটো ইমেইল অধিদপ্তর\n",
      "topic 23 : host রাঙ্গাবালী server client location domain cloud police মৎস্য taka\n",
      "topic 24 : gdp poor ldc domestic revenue crore reform loan cooperation suggest\n",
      "topic 25 : বিনিয়োগ খাতে অর্থনৈতিক দশমিক দাম পোশাক ব্যাংকের গবেষণা ডলার প্রবৃদ্ধি\n",
      "topic 26 : woo dolore 35.00 maria qui sale enim labore rat voluptatem\n",
      "topic 27 : মাছ দক্ষিণ গাছ সাদা আসে জেল এলাকায় ডিগ্রি এলাকা হোটেল\n",
      "topic 28 : রাসত্মা পর্যমত্ম নির্মান dye নলকুপ গভীর পাশে কালভার্ট fiber fibre\n",
      "topic 29 : শীর্ষক আইসিটি ডায়নামিক অনুরোধ ধন্যবাদ খ্রি করছি কক্ষে থাকার জন্যে\n",
      "topic 30 : oil m.a. hasan plant japan rashid sciences disease m.s. pharmaceutical\n",
      "topic 31 : কলেজের বিভাগের অধ্যাপক বিশ্ববিদ্যালয়ের বিজ্ঞান বিশ্ববিদ্যালয় প্রযুক্তি ডিজিটাল স্কুলের অনুষ্ঠানে\n",
      "topic 32 : music usb xiaomi device charge color wireless sound battery smart\n",
      "topic 33 : রেড জাতীয় আন্দোলনের ক্রস অ্যান্ড ফেডারেশন parishad সোসাইটিজ kurigram প্রতিষ্ঠিত\n",
      "topic 34 : clothing customer yarn purpose buyer manufacturer chain constitute strictly prohibit\n",
      "topic 35 : বরিশাল বিজ্ঞপ্তি প্রকাশিত bdt শ্রী পরিসংখ্যান রোড প্রদত্ত কল্যাণ যোগ্যতা\n",
      "topic 36 : core intel gen optiplex 6th 7th খেলা dell desktop 6100\n",
      "topic 37 : adipisc sem aliquam fringilla ligula semper nunc posuere massa enim\n",
      "topic 38 : sobhan prof guest secretary vice mr. rehman seminar chief ali\n",
      "topic 39 : খতিয়ান মালিক প্রস্তুত সম্পত্তি রেকর্ড দাগ বিধান দরপত্র প্রত্যেকটি ক্রমিক\n",
      "topic 40 : commissioner indicator printing publications republic gazette survey statistics table privacy\n",
      "topic 41 : শ্রেনি অষ্টম ষষ্ঠ পরিক্ষার সপ্তম ভোকেশনাল অবহিত /home public_html plugin\n",
      "topic 42 : সম্প্রসারণ কর্মকর্তার লাইসেন্স অফিসের গলাচিপা কপি কর্মসূচী দলিল প্রাপ্তির আদায়\n",
      "topic 43 : results lab login mission calendar club vision links administration principal\n",
      "topic 44 : ged consultative forestry smes broadly seeking much psd demographer ipid\n"
     ]
    }
   ],
   "source": [
    "for i, topics in lda.show_topics(n_topics, formatted=False):\n",
    "    print('topic', i, ':', ' '.join([t for t, _ in topics]))"
   ]
  },
  {
   "cell_type": "code",
   "execution_count": 24,
   "metadata": {},
   "outputs": [
    {
     "name": "stdout",
     "output_type": "stream",
     "text": [
      "topic 0 : বিদ্যালয়টি ভবন অবস্থিত প্রতিষ্ঠিত লাভ সনে কক্ষ বিদ্যালয়ে পরিবেশে মরহুম\n",
      "topic 1 : 4359 5517 4190 5049 1,100.00 4188 google pricing images 1,300.00\n",
      "topic 2 : আওয়ামী সম্পাদক story লীগের দলের গতকাল পুলিশের বিএনপি বিএনপির মামলা\n",
      "topic 3 : খতিয়ান রেকর্ড মালিক প্রস্তুত সম্পত্তি ক্রমিক প্রত্যেকটি মৌজা দাগ পর্চা\n",
      "topic 4 : public_html /home plugin counter mechanic kashsedu statsmechanic.php mysql_query অত্যন্ত ভূমিকা\n",
      "topic 5 : 4th faculty language award mr. vol organization seminar bengali certificate\n",
      "topic 6 : vii viii চুল ক্যান্সার ভিটামিন ত্বকের iii নিয়মিত former মাত্রা\n",
      "topic 7 : woo ক্যালেন্ডার বৃত্তি পাঠ্যক্রম ক্লাশ ব্যয় bibendum fringilla পাঠ্যতালিকা 35.00\n",
      "topic 8 : তেল ভারতীয় দ্বিতীয় কলাপাড়া ম্যাচের মডেল মুস্তাফিজুর মোসাঃ তেলের পাম\n",
      "topic 9 : child rice agricultural household disease medicine flood care index family\n",
      "topic 10 : write card court bar code candidate 12:26 send admit council\n",
      "topic 11 : দরপত্র বিল ইজারা মৃত্যু প্রেরণ প্রাপ্ত স্থানে লাইসেন্স ধারা প্রাপ্তির\n",
      "topic 12 : বিরোধী জঙ্গী সমাবেশসন্ত্রাস host পরিদর্শক ওয়েবসাইটের মাসিক আছেন থাকায় ডেভেলপমেন্ট\n",
      "topic 13 : ভাতা সমাজসেবা কর্মকর্তার দরিদ্র প্রতিবন্ধী আছেন মহান নিজ ইন্টারনেট তাদেরকে\n",
      "topic 14 : japan hasan m.a. plant mohammad rashid haque sciences chowdhury uddin\n",
      "topic 15 : camera approx sound auto flash mode frame card memory wide\n",
      "topic 16 : club sports calendar lab panel debate facilities mission vision holiday\n",
      "topic 17 : আক্রান্ত শিশুর খাবার থাকলে পড়ে সাহায্য ছোট কারনে রাখতে দেয়\n",
      "topic 18 : কোডঃ series fair review(s fel samsung 8802 জেলাঃ ..... flat\n",
      "topic 19 : সম্প্রসারণ প্রযুক্তি যুব ডিজিটাল আধুনিক প্রযুক্তির উৎপাদন মৎস্য দক্ষ ব্যবহারিক\n",
      "topic 20 : রেজিস্ট্রেশন বিয়ে বিয়ের উন্নয়নের রাঙ্গাবালী বেতন বিবাহ যোগ্যতা এইচ আনসার\n",
      "topic 21 : সবাইকে khulna স্বাগতম incod ebcode আইসিটি schooleiin safe 0000 ইউনিসল\n",
      "topic 22 : bdt ãƒâ€šã‚â ãƒæ’ã¢â‚¬å¡ãƒâ€šã‚â please request এসি মিলিয়ন penis minimum matter\n",
      "topic 23 : ldc gdp domestic cooperation aid reform poor region agreement wto\n",
      "topic 24 : wamy অবহিত activities থানার ভারপ্রাপ্ত principal অপরাধ গ্রেফতার details dawah\n",
      "topic 25 : কার্টে অন্তর্ভুক্ত ট্যাক্স রোড জেলা- যোগ চালিয়ে যুক্ত চেক উপজেলা-\n",
      "topic 26 : core intel gen optiplex 6th desktop 7th dell 6100 500\n",
      "topic 27 : অধ্যাপক বিশ্ববিদ্যালয়ের বিভাগের অনুষ্ঠানে বিশ্ববিদ্যালয় রেহমান কলেজের মার্চ অতিথি পাকিস্তান\n",
      "topic 28 : জাতীয় রেড আন্দোলনের নিজ ক্রস অ্যান্ড ফেডারেশন সোসাইটিজ প্রতিষ্ঠিত শান্তি\n",
      "topic 29 : রাসত্মা নির্মান পর্যমত্ম গভীর নলকুপ পশ্চিম পাকা মৃধা পাশে সংলগ্ন\n",
      "topic 30 : রেজাল্ট লিঙ্ক results nine ten ডাউনলোড six jsc skip hsc\n",
      "topic 31 : c(267,268 civics(269,270 general.xls taka ltd. a.xls science.xls bazar b.xls তালিকাঋণ\n",
      "topic 32 : শীর্ষক ডায়নামিক কক্ষে জন্যে অনুরোধ নির্দেশ খ্রি থাকার করছি ধন্যবাদ\n",
      "topic 33 : mba password tender click document procurement tag parishad portal font\n",
      "topic 34 : বিনিয়োগ খাতে দশমিক দাম পোশাক অর্থনৈতিক ডলার ব্যাংকের প্রবৃদ্ধি খাতের\n",
      "topic 35 : বিজ্ঞপ্তি শাখা পরীক্ষায় মুক্তিযোদ্ধা কল্যাণ অক্টোবর ইসলামী লাইফ সেপ্টেম্বর নিয়োগ\n",
      "topic 36 : big want buyer loan crore rise tell clothing revenue earning\n",
      "topic 37 : প্রেমিকা প্রেমপত্র বৈশাখ অনুভব অনুভুতি অনুভূতি সুখ বুঝবে ভাষা পহেলা\n",
      "topic 38 : ged consultative forestry smes broadly seeking much psd demographer ipid\n",
      "topic 39 : sobhan session sdg discussion indicator fellow organise secretary rehman goal\n",
      "topic 40 : বরিশাল ইউপি গলাচিপা সভায় আলোচনা সভার সভা ইউনিয়নে আল্লাহ খাদ্য\n",
      "topic 41 : dye yarn chemical fiber dyeing fibre range denim method jute\n",
      "topic 42 : অষ্টম শ্রেনি ষষ্ঠ পরিক্ষার সপ্তম ভোকেশনাল বার্তা আদালতের মামলা পরিচিতি\n",
      "topic 43 : party election dolore 18:25 enim qui labore voluptatem velit magna\n",
      "topic 44 : cda ligula justo massa adipisc commodo enim felis cum consectetuer\n",
      "topic 45 : music charge xiaomi device usb wireless easy delivery awei battery\n",
      "topic 46 : শিক্ষার্থীদের ২০১৫ শ্রেণির স্কুলের নবায়ন এন্ড কোড কলেজের জুলাই শ্রেণিতে\n",
      "topic 47 : খেলা ক্রিকেট বিদ্যুৎ 12:27 ফুটবল 12:34 ক্লিক উইকেট সমূহ বিন\n",
      "topic 48 : pro software print hmi output input fingerprint color network interface\n",
      "topic 49 : printing commissioner publications rent gazette room apartment survey inventory republic\n"
     ]
    }
   ],
   "source": [
    "for i, topics in lda.show_topics(n_topics, formatted=False):\n",
    "    print('topic', i, ':', ' '.join([t for t, _ in topics]))"
   ]
  },
  {
   "cell_type": "code",
   "execution_count": 45,
   "metadata": {},
   "outputs": [
    {
     "name": "stderr",
     "output_type": "stream",
     "text": [
      " 13%|█████████▊                                                                  | 5869/45352 [00:09<01:07, 587.81it/s]F:\\InstallationFiles\\Anaconda3\\envs\\for_pytorch\\lib\\site-packages\\tqdm\\_monitor.py:89: TqdmSynchronisationWarning: Set changed size during iteration (see https://github.com/tqdm/tqdm/issues/481)\n",
      "  TqdmSynchronisationWarning)\n",
      "100%|███████████████████████████████████████████████████████████████████████████| 45352/45352 [00:46<00:00, 966.08it/s]\n"
     ]
    }
   ],
   "source": [
    "doc_weights_init = np.zeros((len(corpus_lda), n_topics))\n",
    "for i in tqdm(range(len(corpus_lda))):\n",
    "    topics = corpus_lda[i]\n",
    "    for j, prob in topics:\n",
    "        doc_weights_init[i, j] = prob"
   ]
  },
  {
   "cell_type": "markdown",
   "metadata": {},
   "source": [
    "# Save data"
   ]
  },
  {
   "cell_type": "code",
   "execution_count": 30,
   "metadata": {},
   "outputs": [],
   "source": [
    "np.save('data.npy', data)\n",
    "np.save('word_vectors.npy', word_vectors)\n",
    "np.save('unigram_distribution.npy', unigram_distribution)\n",
    "np.save('decoder.npy', decoder)\n",
    "np.save('doc_decoder.npy', doc_decoder)\n",
    "np.save('doc_weights_init.npy', doc_weights_init)"
   ]
  },
  {
   "cell_type": "code",
   "execution_count": 46,
   "metadata": {},
   "outputs": [],
   "source": [
    "np.save('doc_weights_init.npy', doc_weights_init)"
   ]
  },
  {
   "cell_type": "code",
   "execution_count": null,
   "metadata": {},
   "outputs": [],
   "source": []
  }
 ],
 "metadata": {
  "kernelspec": {
   "display_name": "Python 3",
   "language": "python",
   "name": "python3"
  },
  "language_info": {
   "codemirror_mode": {
    "name": "ipython",
    "version": 3
   },
   "file_extension": ".py",
   "mimetype": "text/x-python",
   "name": "python",
   "nbconvert_exporter": "python",
   "pygments_lexer": "ipython3",
   "version": "3.6.5"
  }
 },
 "nbformat": 4,
 "nbformat_minor": 2
}
